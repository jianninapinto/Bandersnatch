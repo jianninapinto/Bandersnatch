{
  "nbformat": 4,
  "nbformat_minor": 0,
  "metadata": {
    "colab": {
      "provenance": []
    },
    "kernelspec": {
      "name": "python3",
      "display_name": "Python 3"
    },
    "language_info": {
      "name": "python"
    }
  },
  "cells": [
    {
      "cell_type": "markdown",
      "source": [
        "# Notebook Model Training and Tuning\n",
        "\n",
        "## Objective\n",
        "\n",
        "The objective of this project is to develop a predictive model that classifies the rank or rarity class of the monsters based on their level, health, energy and sanity attributes. The model aims to address the following business or data question:\n",
        "\n",
        "**Business Question:** How can we automate the classification of monsters based on their attributes to provide users with insights into their ranks?"
      ],
      "metadata": {
        "id": "kN8-UzE2A_XT"
      }
    },
    {
      "cell_type": "markdown",
      "source": [
        "# Dataset Overview\n",
        "\n",
        "The dataset used for the monster rarity classification problem was sourced from MongoDB and consisted of monsters that were randomly generated using the MonsterLab library. During the prepocessing phase, columns such as `_id`, `name`, and `damage`, where excluded from the dataset as they were not relevant for modeling purposes.\n",
        "\n",
        "The dataset includes features like `level`, `health`, `energy`, `sanity`, and the target variable `rarity`. It contains 1,500 observations, with rarity classes ranging from `Rank 0` to `Rank 5`."
      ],
      "metadata": {
        "id": "uUHgyfy2yFTn"
      }
    },
    {
      "cell_type": "code",
      "source": [
        "# pip install pymongo in Colab\n",
        "! python -m pip install pymongo"
      ],
      "metadata": {
        "colab": {
          "base_uri": "https://localhost:8080/"
        },
        "id": "GM5jWWM2w8tb",
        "outputId": "bd7cc36d-597e-45ce-b77b-bce2a1a9d640"
      },
      "execution_count": 1,
      "outputs": [
        {
          "output_type": "stream",
          "name": "stdout",
          "text": [
            "Collecting pymongo\n",
            "  Downloading pymongo-4.4.0-cp310-cp310-manylinux_2_17_x86_64.manylinux2014_x86_64.whl (648 kB)\n",
            "\u001b[?25l     \u001b[90m━━━━━━━━━━━━━━━━━━━━━━━━━━━━━━━━━━━━━━━━\u001b[0m \u001b[32m0.0/648.9 kB\u001b[0m \u001b[31m?\u001b[0m eta \u001b[36m-:--:--\u001b[0m\r\u001b[2K     \u001b[90m━━━━━━━━━━━━━━━━━━━━━━━━━━━━━━━━━━━━━━\u001b[0m \u001b[32m648.9/648.9 kB\u001b[0m \u001b[31m35.0 MB/s\u001b[0m eta \u001b[36m0:00:00\u001b[0m\n",
            "\u001b[?25hCollecting dnspython<3.0.0,>=1.16.0 (from pymongo)\n",
            "  Downloading dnspython-2.3.0-py3-none-any.whl (283 kB)\n",
            "\u001b[?25l     \u001b[90m━━━━━━━━━━━━━━━━━━━━━━━━━━━━━━━━━━━━━━━━\u001b[0m \u001b[32m0.0/283.7 kB\u001b[0m \u001b[31m?\u001b[0m eta \u001b[36m-:--:--\u001b[0m\r\u001b[2K     \u001b[90m━━━━━━━━━━━━━━━━━━━━━━━━━━━━━━━━━━━━━━\u001b[0m \u001b[32m283.7/283.7 kB\u001b[0m \u001b[31m31.5 MB/s\u001b[0m eta \u001b[36m0:00:00\u001b[0m\n",
            "\u001b[?25hInstalling collected packages: dnspython, pymongo\n",
            "Successfully installed dnspython-2.3.0 pymongo-4.4.0\n"
          ]
        }
      ]
    },
    {
      "cell_type": "code",
      "source": [
        "# pip install categorical encoders\n",
        "!pip install category_encoders"
      ],
      "metadata": {
        "colab": {
          "base_uri": "https://localhost:8080/"
        },
        "id": "P5YqERne_tNv",
        "outputId": "78be9092-f642-4a1a-a97d-51d43d878a75"
      },
      "execution_count": 2,
      "outputs": [
        {
          "output_type": "stream",
          "name": "stdout",
          "text": [
            "Collecting category_encoders\n",
            "  Downloading category_encoders-2.6.1-py2.py3-none-any.whl (81 kB)\n",
            "\u001b[?25l     \u001b[90m━━━━━━━━━━━━━━━━━━━━━━━━━━━━━━━━━━━━━━━━\u001b[0m \u001b[32m0.0/81.9 kB\u001b[0m \u001b[31m?\u001b[0m eta \u001b[36m-:--:--\u001b[0m\r\u001b[2K     \u001b[90m━━━━━━━━━━━━━━━━━━━━━━━━━━━━━━━━━━━━━━━━\u001b[0m \u001b[32m81.9/81.9 kB\u001b[0m \u001b[31m7.7 MB/s\u001b[0m eta \u001b[36m0:00:00\u001b[0m\n",
            "\u001b[?25hRequirement already satisfied: numpy>=1.14.0 in /usr/local/lib/python3.10/dist-packages (from category_encoders) (1.22.4)\n",
            "Requirement already satisfied: scikit-learn>=0.20.0 in /usr/local/lib/python3.10/dist-packages (from category_encoders) (1.2.2)\n",
            "Requirement already satisfied: scipy>=1.0.0 in /usr/local/lib/python3.10/dist-packages (from category_encoders) (1.10.1)\n",
            "Requirement already satisfied: statsmodels>=0.9.0 in /usr/local/lib/python3.10/dist-packages (from category_encoders) (0.13.5)\n",
            "Requirement already satisfied: pandas>=1.0.5 in /usr/local/lib/python3.10/dist-packages (from category_encoders) (1.5.3)\n",
            "Requirement already satisfied: patsy>=0.5.1 in /usr/local/lib/python3.10/dist-packages (from category_encoders) (0.5.3)\n",
            "Requirement already satisfied: python-dateutil>=2.8.1 in /usr/local/lib/python3.10/dist-packages (from pandas>=1.0.5->category_encoders) (2.8.2)\n",
            "Requirement already satisfied: pytz>=2020.1 in /usr/local/lib/python3.10/dist-packages (from pandas>=1.0.5->category_encoders) (2022.7.1)\n",
            "Requirement already satisfied: six in /usr/local/lib/python3.10/dist-packages (from patsy>=0.5.1->category_encoders) (1.16.0)\n",
            "Requirement already satisfied: joblib>=1.1.1 in /usr/local/lib/python3.10/dist-packages (from scikit-learn>=0.20.0->category_encoders) (1.2.0)\n",
            "Requirement already satisfied: threadpoolctl>=2.0.0 in /usr/local/lib/python3.10/dist-packages (from scikit-learn>=0.20.0->category_encoders) (3.1.0)\n",
            "Requirement already satisfied: packaging>=21.3 in /usr/local/lib/python3.10/dist-packages (from statsmodels>=0.9.0->category_encoders) (23.1)\n",
            "Installing collected packages: category_encoders\n",
            "Successfully installed category_encoders-2.6.1\n"
          ]
        }
      ]
    },
    {
      "cell_type": "code",
      "source": [
        "# Imports\n",
        "import pymongo\n",
        "from pymongo import MongoClient\n",
        "from getpass import getpass\n",
        "\n",
        "import pandas as pd\n",
        "import numpy as np\n",
        "import matplotlib.pyplot as plt\n",
        "\n",
        "\n",
        "from sklearn.model_selection import RandomizedSearchCV, train_test_split, StratifiedKFold\n",
        "from sklearn.impute import SimpleImputer\n",
        "from sklearn.metrics import accuracy_score, classification_report, roc_curve, confusion_matrix, roc_auc_score\n",
        "from sklearn.compose import ColumnTransformer\n",
        "from sklearn.preprocessing import StandardScaler, OneHotEncoder, OrdinalEncoder, LabelEncoder\n",
        "from sklearn.ensemble import RandomForestClassifier\n",
        "from sklearn.model_selection import StratifiedKFold, cross_val_score, RandomizedSearchCV, cross_val_predict\n",
        "from sklearn.svm import SVC\n",
        "from sklearn.inspection import permutation_importance\n",
        "\n",
        "\n",
        "from imblearn.pipeline import Pipeline\n",
        "from imblearn.over_sampling import SMOTE\n",
        "from imblearn.under_sampling import RandomUnderSampler\n",
        "from imblearn.over_sampling import RandomOverSampler\n",
        "\n",
        "\n",
        "from xgboost import XGBClassifier"
      ],
      "metadata": {
        "id": "HdEFL4jDxMVH"
      },
      "execution_count": 3,
      "outputs": []
    },
    {
      "cell_type": "markdown",
      "source": [
        "## I. Data Wrangling\n",
        "\n",
        "Custom wrangling function to establish a connection to MongoDB, retrieve the monster data, convert it into a pandas DataFrame, and perform necessary data cleaning steps. This function excludes irrelevant features and ensures the dataset is ready for further analysis."
      ],
      "metadata": {
        "id": "crh4LzB7BZb-"
      }
    },
    {
      "cell_type": "code",
      "source": [
        "def wrangle():\n",
        "  \"\"\"\n",
        "  Retrieves data from a MongoDB collection, performs data wrangling, and returns a cleaned DataFrame.\n",
        "\n",
        "  This function prompts the user to enter the MongoDB URI and creates a connection to the MongoDB client.\n",
        "  It accesses a specified database and collection. The function retrieves the data from the collection and\n",
        "  converts it into a DataFrame. It then undergoes several data cleaning steps, including removing the `_id`\n",
        "  column, converting the `Timestamp` column to a datetime object, and removing high cardinality categorical\n",
        "  columns based on a specific cutoff value. The resulting DataFrame is returned as the output.\n",
        "\n",
        "  Returns:\n",
        "      df (DataFrame): The cleaned DataFrame obtained from the MongoDB collection.\n",
        "  \"\"\"\n",
        "\n",
        "  # Prompt the user to enter the MongoDB URI\n",
        "  secret_uri = getpass('Enter MongoDB_URI: ')\n",
        "\n",
        "  # Connect to the MongoDB client\n",
        "  client = MongoClient(secret_uri)\n",
        "\n",
        "  # Access the database and collection\n",
        "  db = client.Database\n",
        "  monsters = db.monsters\n",
        "\n",
        "  # Retrieve the data from the collection\n",
        "  data = list(monsters.find())\n",
        "\n",
        "  # Convert the data to a DataFrame\n",
        "  df = pd.DataFrame(data)\n",
        "\n",
        "  # Remove the `_id` column\n",
        "  df.drop(columns=['_id'], inplace=True)\n",
        "\n",
        "  # Convert `Timestamp` into a datetime object\n",
        "  df.Timestamp = pd.to_datetime(df['Timestamp'])\n",
        "\n",
        "  # Exclude high cardinality categorical columns\n",
        "  cutoff = 100\n",
        "  drop_cols = [col for col in df.select_dtypes('object').columns\n",
        "                if df[col].nunique() > cutoff]\n",
        "  df.drop(columns=drop_cols, inplace=True)\n",
        "\n",
        "  return df"
      ],
      "metadata": {
        "id": "-07VAWyR0yZO"
      },
      "execution_count": 4,
      "outputs": []
    },
    {
      "cell_type": "code",
      "source": [
        "# Assign the DataFrame to the to the variable `df`\n",
        "# to get access to MongoDB database and work with the cleaned data\n",
        "df = wrangle()"
      ],
      "metadata": {
        "colab": {
          "base_uri": "https://localhost:8080/"
        },
        "id": "e12ly1PS5VXA",
        "outputId": "380bac97-e247-4ba2-e568-03a4e4066bc6"
      },
      "execution_count": 5,
      "outputs": [
        {
          "name": "stdout",
          "output_type": "stream",
          "text": [
            "Enter MongoDB_URI: ··········\n"
          ]
        }
      ]
    },
    {
      "cell_type": "code",
      "source": [
        "# Print a random sample of the dataset\n",
        "df.sample(10)"
      ],
      "metadata": {
        "colab": {
          "base_uri": "https://localhost:8080/",
          "height": 363
        },
        "id": "-eXjrHzg6gL9",
        "outputId": "504192e6-5d89-4c23-c80f-ca7945a72b0c"
      },
      "execution_count": 6,
      "outputs": [
        {
          "output_type": "execute_result",
          "data": {
            "text/plain": [
              "           Type  Level  Rarity  Health  Energy  Sanity           Timestamp\n",
              "969     Demonic      8  Rank 0   15.28   15.43   15.73 2023-06-15 12:25:26\n",
              "1465     Dragon      7  Rank 2   40.63   41.17   42.00 2023-06-15 12:25:26\n",
              "980    Devilkin      9  Rank 0   18.34   17.95   17.80 2023-06-15 12:25:26\n",
              "322      Dragon     13  Rank 0   25.75   26.63   26.66 2023-06-15 12:25:26\n",
              "428   Elemental     11  Rank 2   67.56   64.02   66.83 2023-06-15 12:25:26\n",
              "103     Demonic     11  Rank 4  114.57  112.54  112.82 2023-06-15 12:25:26\n",
              "1100        Fey      8  Rank 0   16.61   16.93   16.37 2023-06-15 12:25:26\n",
              "32     Devilkin     10  Rank 1   39.69   40.12   41.52 2023-06-15 12:25:26\n",
              "339   Elemental     10  Rank 1   40.40   39.86   40.60 2023-06-15 12:25:26\n",
              "1219     Undead      3  Rank 1   11.15   12.40   10.54 2023-06-15 12:25:26"
            ],
            "text/html": [
              "\n",
              "  <div id=\"df-0a1cbb49-584e-4ffd-8919-0aeca516be6f\">\n",
              "    <div class=\"colab-df-container\">\n",
              "      <div>\n",
              "<style scoped>\n",
              "    .dataframe tbody tr th:only-of-type {\n",
              "        vertical-align: middle;\n",
              "    }\n",
              "\n",
              "    .dataframe tbody tr th {\n",
              "        vertical-align: top;\n",
              "    }\n",
              "\n",
              "    .dataframe thead th {\n",
              "        text-align: right;\n",
              "    }\n",
              "</style>\n",
              "<table border=\"1\" class=\"dataframe\">\n",
              "  <thead>\n",
              "    <tr style=\"text-align: right;\">\n",
              "      <th></th>\n",
              "      <th>Type</th>\n",
              "      <th>Level</th>\n",
              "      <th>Rarity</th>\n",
              "      <th>Health</th>\n",
              "      <th>Energy</th>\n",
              "      <th>Sanity</th>\n",
              "      <th>Timestamp</th>\n",
              "    </tr>\n",
              "  </thead>\n",
              "  <tbody>\n",
              "    <tr>\n",
              "      <th>969</th>\n",
              "      <td>Demonic</td>\n",
              "      <td>8</td>\n",
              "      <td>Rank 0</td>\n",
              "      <td>15.28</td>\n",
              "      <td>15.43</td>\n",
              "      <td>15.73</td>\n",
              "      <td>2023-06-15 12:25:26</td>\n",
              "    </tr>\n",
              "    <tr>\n",
              "      <th>1465</th>\n",
              "      <td>Dragon</td>\n",
              "      <td>7</td>\n",
              "      <td>Rank 2</td>\n",
              "      <td>40.63</td>\n",
              "      <td>41.17</td>\n",
              "      <td>42.00</td>\n",
              "      <td>2023-06-15 12:25:26</td>\n",
              "    </tr>\n",
              "    <tr>\n",
              "      <th>980</th>\n",
              "      <td>Devilkin</td>\n",
              "      <td>9</td>\n",
              "      <td>Rank 0</td>\n",
              "      <td>18.34</td>\n",
              "      <td>17.95</td>\n",
              "      <td>17.80</td>\n",
              "      <td>2023-06-15 12:25:26</td>\n",
              "    </tr>\n",
              "    <tr>\n",
              "      <th>322</th>\n",
              "      <td>Dragon</td>\n",
              "      <td>13</td>\n",
              "      <td>Rank 0</td>\n",
              "      <td>25.75</td>\n",
              "      <td>26.63</td>\n",
              "      <td>26.66</td>\n",
              "      <td>2023-06-15 12:25:26</td>\n",
              "    </tr>\n",
              "    <tr>\n",
              "      <th>428</th>\n",
              "      <td>Elemental</td>\n",
              "      <td>11</td>\n",
              "      <td>Rank 2</td>\n",
              "      <td>67.56</td>\n",
              "      <td>64.02</td>\n",
              "      <td>66.83</td>\n",
              "      <td>2023-06-15 12:25:26</td>\n",
              "    </tr>\n",
              "    <tr>\n",
              "      <th>103</th>\n",
              "      <td>Demonic</td>\n",
              "      <td>11</td>\n",
              "      <td>Rank 4</td>\n",
              "      <td>114.57</td>\n",
              "      <td>112.54</td>\n",
              "      <td>112.82</td>\n",
              "      <td>2023-06-15 12:25:26</td>\n",
              "    </tr>\n",
              "    <tr>\n",
              "      <th>1100</th>\n",
              "      <td>Fey</td>\n",
              "      <td>8</td>\n",
              "      <td>Rank 0</td>\n",
              "      <td>16.61</td>\n",
              "      <td>16.93</td>\n",
              "      <td>16.37</td>\n",
              "      <td>2023-06-15 12:25:26</td>\n",
              "    </tr>\n",
              "    <tr>\n",
              "      <th>32</th>\n",
              "      <td>Devilkin</td>\n",
              "      <td>10</td>\n",
              "      <td>Rank 1</td>\n",
              "      <td>39.69</td>\n",
              "      <td>40.12</td>\n",
              "      <td>41.52</td>\n",
              "      <td>2023-06-15 12:25:26</td>\n",
              "    </tr>\n",
              "    <tr>\n",
              "      <th>339</th>\n",
              "      <td>Elemental</td>\n",
              "      <td>10</td>\n",
              "      <td>Rank 1</td>\n",
              "      <td>40.40</td>\n",
              "      <td>39.86</td>\n",
              "      <td>40.60</td>\n",
              "      <td>2023-06-15 12:25:26</td>\n",
              "    </tr>\n",
              "    <tr>\n",
              "      <th>1219</th>\n",
              "      <td>Undead</td>\n",
              "      <td>3</td>\n",
              "      <td>Rank 1</td>\n",
              "      <td>11.15</td>\n",
              "      <td>12.40</td>\n",
              "      <td>10.54</td>\n",
              "      <td>2023-06-15 12:25:26</td>\n",
              "    </tr>\n",
              "  </tbody>\n",
              "</table>\n",
              "</div>\n",
              "      <button class=\"colab-df-convert\" onclick=\"convertToInteractive('df-0a1cbb49-584e-4ffd-8919-0aeca516be6f')\"\n",
              "              title=\"Convert this dataframe to an interactive table.\"\n",
              "              style=\"display:none;\">\n",
              "        \n",
              "  <svg xmlns=\"http://www.w3.org/2000/svg\" height=\"24px\"viewBox=\"0 0 24 24\"\n",
              "       width=\"24px\">\n",
              "    <path d=\"M0 0h24v24H0V0z\" fill=\"none\"/>\n",
              "    <path d=\"M18.56 5.44l.94 2.06.94-2.06 2.06-.94-2.06-.94-.94-2.06-.94 2.06-2.06.94zm-11 1L8.5 8.5l.94-2.06 2.06-.94-2.06-.94L8.5 2.5l-.94 2.06-2.06.94zm10 10l.94 2.06.94-2.06 2.06-.94-2.06-.94-.94-2.06-.94 2.06-2.06.94z\"/><path d=\"M17.41 7.96l-1.37-1.37c-.4-.4-.92-.59-1.43-.59-.52 0-1.04.2-1.43.59L10.3 9.45l-7.72 7.72c-.78.78-.78 2.05 0 2.83L4 21.41c.39.39.9.59 1.41.59.51 0 1.02-.2 1.41-.59l7.78-7.78 2.81-2.81c.8-.78.8-2.07 0-2.86zM5.41 20L4 18.59l7.72-7.72 1.47 1.35L5.41 20z\"/>\n",
              "  </svg>\n",
              "      </button>\n",
              "      \n",
              "  <style>\n",
              "    .colab-df-container {\n",
              "      display:flex;\n",
              "      flex-wrap:wrap;\n",
              "      gap: 12px;\n",
              "    }\n",
              "\n",
              "    .colab-df-convert {\n",
              "      background-color: #E8F0FE;\n",
              "      border: none;\n",
              "      border-radius: 50%;\n",
              "      cursor: pointer;\n",
              "      display: none;\n",
              "      fill: #1967D2;\n",
              "      height: 32px;\n",
              "      padding: 0 0 0 0;\n",
              "      width: 32px;\n",
              "    }\n",
              "\n",
              "    .colab-df-convert:hover {\n",
              "      background-color: #E2EBFA;\n",
              "      box-shadow: 0px 1px 2px rgba(60, 64, 67, 0.3), 0px 1px 3px 1px rgba(60, 64, 67, 0.15);\n",
              "      fill: #174EA6;\n",
              "    }\n",
              "\n",
              "    [theme=dark] .colab-df-convert {\n",
              "      background-color: #3B4455;\n",
              "      fill: #D2E3FC;\n",
              "    }\n",
              "\n",
              "    [theme=dark] .colab-df-convert:hover {\n",
              "      background-color: #434B5C;\n",
              "      box-shadow: 0px 1px 3px 1px rgba(0, 0, 0, 0.15);\n",
              "      filter: drop-shadow(0px 1px 2px rgba(0, 0, 0, 0.3));\n",
              "      fill: #FFFFFF;\n",
              "    }\n",
              "  </style>\n",
              "\n",
              "      <script>\n",
              "        const buttonEl =\n",
              "          document.querySelector('#df-0a1cbb49-584e-4ffd-8919-0aeca516be6f button.colab-df-convert');\n",
              "        buttonEl.style.display =\n",
              "          google.colab.kernel.accessAllowed ? 'block' : 'none';\n",
              "\n",
              "        async function convertToInteractive(key) {\n",
              "          const element = document.querySelector('#df-0a1cbb49-584e-4ffd-8919-0aeca516be6f');\n",
              "          const dataTable =\n",
              "            await google.colab.kernel.invokeFunction('convertToInteractive',\n",
              "                                                     [key], {});\n",
              "          if (!dataTable) return;\n",
              "\n",
              "          const docLinkHtml = 'Like what you see? Visit the ' +\n",
              "            '<a target=\"_blank\" href=https://colab.research.google.com/notebooks/data_table.ipynb>data table notebook</a>'\n",
              "            + ' to learn more about interactive tables.';\n",
              "          element.innerHTML = '';\n",
              "          dataTable['output_type'] = 'display_data';\n",
              "          await google.colab.output.renderOutput(dataTable, element);\n",
              "          const docLink = document.createElement('div');\n",
              "          docLink.innerHTML = docLinkHtml;\n",
              "          element.appendChild(docLink);\n",
              "        }\n",
              "      </script>\n",
              "    </div>\n",
              "  </div>\n",
              "  "
            ]
          },
          "metadata": {},
          "execution_count": 6
        }
      ]
    },
    {
      "cell_type": "code",
      "source": [
        "# Features with NaN values\n",
        "df.isnull().sum().sum()"
      ],
      "metadata": {
        "colab": {
          "base_uri": "https://localhost:8080/"
        },
        "id": "rzRTWfAOC7fr",
        "outputId": "0bda8acc-a20d-412c-a4d8-045c6b218cd9"
      },
      "execution_count": 7,
      "outputs": [
        {
          "output_type": "execute_result",
          "data": {
            "text/plain": [
              "0"
            ]
          },
          "metadata": {},
          "execution_count": 7
        }
      ]
    },
    {
      "cell_type": "code",
      "source": [
        "# Verify column names and datatypes\n",
        "df.info()"
      ],
      "metadata": {
        "colab": {
          "base_uri": "https://localhost:8080/"
        },
        "id": "1ItVzoz66_ex",
        "outputId": "87314787-841e-4f13-c645-74a5bd07d161"
      },
      "execution_count": 8,
      "outputs": [
        {
          "output_type": "stream",
          "name": "stdout",
          "text": [
            "<class 'pandas.core.frame.DataFrame'>\n",
            "RangeIndex: 1500 entries, 0 to 1499\n",
            "Data columns (total 7 columns):\n",
            " #   Column     Non-Null Count  Dtype         \n",
            "---  ------     --------------  -----         \n",
            " 0   Type       1500 non-null   object        \n",
            " 1   Level      1500 non-null   int64         \n",
            " 2   Rarity     1500 non-null   object        \n",
            " 3   Health     1500 non-null   float64       \n",
            " 4   Energy     1500 non-null   float64       \n",
            " 5   Sanity     1500 non-null   float64       \n",
            " 6   Timestamp  1500 non-null   datetime64[ns]\n",
            "dtypes: datetime64[ns](1), float64(3), int64(1), object(2)\n",
            "memory usage: 82.2+ KB\n"
          ]
        }
      ]
    },
    {
      "cell_type": "code",
      "source": [
        "# Summary statistics\n",
        "df.describe()"
      ],
      "metadata": {
        "colab": {
          "base_uri": "https://localhost:8080/",
          "height": 300
        },
        "id": "6fZeesiyXECR",
        "outputId": "55f307f5-9897-4ee7-9b7f-687c031ef828"
      },
      "execution_count": 9,
      "outputs": [
        {
          "output_type": "execute_result",
          "data": {
            "text/plain": [
              "             Level       Health       Energy       Sanity\n",
              "count  1500.000000  1500.000000  1500.000000  1500.000000\n",
              "mean      7.876667    38.908920    38.823760    38.825820\n",
              "std       4.456010    32.318894    32.312967    32.368774\n",
              "min       1.000000     1.000000     1.010000     1.280000\n",
              "25%       4.000000    15.350000    15.300000    15.320000\n",
              "50%       7.000000    28.265000    28.330000    28.475000\n",
              "75%      11.000000    54.112500    53.402500    53.945000\n",
              "max      20.000000   213.090000   215.440000   217.660000"
            ],
            "text/html": [
              "\n",
              "  <div id=\"df-54418edb-2b4a-4228-b89c-d14ab23e5169\">\n",
              "    <div class=\"colab-df-container\">\n",
              "      <div>\n",
              "<style scoped>\n",
              "    .dataframe tbody tr th:only-of-type {\n",
              "        vertical-align: middle;\n",
              "    }\n",
              "\n",
              "    .dataframe tbody tr th {\n",
              "        vertical-align: top;\n",
              "    }\n",
              "\n",
              "    .dataframe thead th {\n",
              "        text-align: right;\n",
              "    }\n",
              "</style>\n",
              "<table border=\"1\" class=\"dataframe\">\n",
              "  <thead>\n",
              "    <tr style=\"text-align: right;\">\n",
              "      <th></th>\n",
              "      <th>Level</th>\n",
              "      <th>Health</th>\n",
              "      <th>Energy</th>\n",
              "      <th>Sanity</th>\n",
              "    </tr>\n",
              "  </thead>\n",
              "  <tbody>\n",
              "    <tr>\n",
              "      <th>count</th>\n",
              "      <td>1500.000000</td>\n",
              "      <td>1500.000000</td>\n",
              "      <td>1500.000000</td>\n",
              "      <td>1500.000000</td>\n",
              "    </tr>\n",
              "    <tr>\n",
              "      <th>mean</th>\n",
              "      <td>7.876667</td>\n",
              "      <td>38.908920</td>\n",
              "      <td>38.823760</td>\n",
              "      <td>38.825820</td>\n",
              "    </tr>\n",
              "    <tr>\n",
              "      <th>std</th>\n",
              "      <td>4.456010</td>\n",
              "      <td>32.318894</td>\n",
              "      <td>32.312967</td>\n",
              "      <td>32.368774</td>\n",
              "    </tr>\n",
              "    <tr>\n",
              "      <th>min</th>\n",
              "      <td>1.000000</td>\n",
              "      <td>1.000000</td>\n",
              "      <td>1.010000</td>\n",
              "      <td>1.280000</td>\n",
              "    </tr>\n",
              "    <tr>\n",
              "      <th>25%</th>\n",
              "      <td>4.000000</td>\n",
              "      <td>15.350000</td>\n",
              "      <td>15.300000</td>\n",
              "      <td>15.320000</td>\n",
              "    </tr>\n",
              "    <tr>\n",
              "      <th>50%</th>\n",
              "      <td>7.000000</td>\n",
              "      <td>28.265000</td>\n",
              "      <td>28.330000</td>\n",
              "      <td>28.475000</td>\n",
              "    </tr>\n",
              "    <tr>\n",
              "      <th>75%</th>\n",
              "      <td>11.000000</td>\n",
              "      <td>54.112500</td>\n",
              "      <td>53.402500</td>\n",
              "      <td>53.945000</td>\n",
              "    </tr>\n",
              "    <tr>\n",
              "      <th>max</th>\n",
              "      <td>20.000000</td>\n",
              "      <td>213.090000</td>\n",
              "      <td>215.440000</td>\n",
              "      <td>217.660000</td>\n",
              "    </tr>\n",
              "  </tbody>\n",
              "</table>\n",
              "</div>\n",
              "      <button class=\"colab-df-convert\" onclick=\"convertToInteractive('df-54418edb-2b4a-4228-b89c-d14ab23e5169')\"\n",
              "              title=\"Convert this dataframe to an interactive table.\"\n",
              "              style=\"display:none;\">\n",
              "        \n",
              "  <svg xmlns=\"http://www.w3.org/2000/svg\" height=\"24px\"viewBox=\"0 0 24 24\"\n",
              "       width=\"24px\">\n",
              "    <path d=\"M0 0h24v24H0V0z\" fill=\"none\"/>\n",
              "    <path d=\"M18.56 5.44l.94 2.06.94-2.06 2.06-.94-2.06-.94-.94-2.06-.94 2.06-2.06.94zm-11 1L8.5 8.5l.94-2.06 2.06-.94-2.06-.94L8.5 2.5l-.94 2.06-2.06.94zm10 10l.94 2.06.94-2.06 2.06-.94-2.06-.94-.94-2.06-.94 2.06-2.06.94z\"/><path d=\"M17.41 7.96l-1.37-1.37c-.4-.4-.92-.59-1.43-.59-.52 0-1.04.2-1.43.59L10.3 9.45l-7.72 7.72c-.78.78-.78 2.05 0 2.83L4 21.41c.39.39.9.59 1.41.59.51 0 1.02-.2 1.41-.59l7.78-7.78 2.81-2.81c.8-.78.8-2.07 0-2.86zM5.41 20L4 18.59l7.72-7.72 1.47 1.35L5.41 20z\"/>\n",
              "  </svg>\n",
              "      </button>\n",
              "      \n",
              "  <style>\n",
              "    .colab-df-container {\n",
              "      display:flex;\n",
              "      flex-wrap:wrap;\n",
              "      gap: 12px;\n",
              "    }\n",
              "\n",
              "    .colab-df-convert {\n",
              "      background-color: #E8F0FE;\n",
              "      border: none;\n",
              "      border-radius: 50%;\n",
              "      cursor: pointer;\n",
              "      display: none;\n",
              "      fill: #1967D2;\n",
              "      height: 32px;\n",
              "      padding: 0 0 0 0;\n",
              "      width: 32px;\n",
              "    }\n",
              "\n",
              "    .colab-df-convert:hover {\n",
              "      background-color: #E2EBFA;\n",
              "      box-shadow: 0px 1px 2px rgba(60, 64, 67, 0.3), 0px 1px 3px 1px rgba(60, 64, 67, 0.15);\n",
              "      fill: #174EA6;\n",
              "    }\n",
              "\n",
              "    [theme=dark] .colab-df-convert {\n",
              "      background-color: #3B4455;\n",
              "      fill: #D2E3FC;\n",
              "    }\n",
              "\n",
              "    [theme=dark] .colab-df-convert:hover {\n",
              "      background-color: #434B5C;\n",
              "      box-shadow: 0px 1px 3px 1px rgba(0, 0, 0, 0.15);\n",
              "      filter: drop-shadow(0px 1px 2px rgba(0, 0, 0, 0.3));\n",
              "      fill: #FFFFFF;\n",
              "    }\n",
              "  </style>\n",
              "\n",
              "      <script>\n",
              "        const buttonEl =\n",
              "          document.querySelector('#df-54418edb-2b4a-4228-b89c-d14ab23e5169 button.colab-df-convert');\n",
              "        buttonEl.style.display =\n",
              "          google.colab.kernel.accessAllowed ? 'block' : 'none';\n",
              "\n",
              "        async function convertToInteractive(key) {\n",
              "          const element = document.querySelector('#df-54418edb-2b4a-4228-b89c-d14ab23e5169');\n",
              "          const dataTable =\n",
              "            await google.colab.kernel.invokeFunction('convertToInteractive',\n",
              "                                                     [key], {});\n",
              "          if (!dataTable) return;\n",
              "\n",
              "          const docLinkHtml = 'Like what you see? Visit the ' +\n",
              "            '<a target=\"_blank\" href=https://colab.research.google.com/notebooks/data_table.ipynb>data table notebook</a>'\n",
              "            + ' to learn more about interactive tables.';\n",
              "          element.innerHTML = '';\n",
              "          dataTable['output_type'] = 'display_data';\n",
              "          await google.colab.output.renderOutput(dataTable, element);\n",
              "          const docLink = document.createElement('div');\n",
              "          docLink.innerHTML = docLinkHtml;\n",
              "          element.appendChild(docLink);\n",
              "        }\n",
              "      </script>\n",
              "    </div>\n",
              "  </div>\n",
              "  "
            ]
          },
          "metadata": {},
          "execution_count": 9
        }
      ]
    },
    {
      "cell_type": "markdown",
      "source": [
        "## Constant Value Column\n",
        "\n",
        "The `Timestamp` column in the monsters DataFrame has a constant value for all rows, so it does not provide any meaningful information for analysis or visualization. However, when the app is deployed, information about the timestamp will be showed in the `/model` tab. For this reason, the `Timestamp` column is kept in the DataFrame."
      ],
      "metadata": {
        "id": "094Yv7aRJD3g"
      }
    },
    {
      "cell_type": "code",
      "source": [
        "# Retrieve all the unique values from the `Timestamp` column\n",
        "df.Timestamp.unique()"
      ],
      "metadata": {
        "colab": {
          "base_uri": "https://localhost:8080/"
        },
        "id": "1Axn9CzDGjz8",
        "outputId": "fc3f6c15-465d-4c9e-dba7-89e81c8dd447"
      },
      "execution_count": 10,
      "outputs": [
        {
          "output_type": "execute_result",
          "data": {
            "text/plain": [
              "array(['2023-06-15T12:25:26.000000000'], dtype='datetime64[ns]')"
            ]
          },
          "metadata": {},
          "execution_count": 10
        }
      ]
    },
    {
      "cell_type": "code",
      "source": [
        "df.Timestamp.nunique()"
      ],
      "metadata": {
        "colab": {
          "base_uri": "https://localhost:8080/"
        },
        "id": "KJoV7ykYHVs6",
        "outputId": "ef1e1385-4933-43ae-dccd-5bf08d55025a"
      },
      "execution_count": 11,
      "outputs": [
        {
          "output_type": "execute_result",
          "data": {
            "text/plain": [
              "1"
            ]
          },
          "metadata": {},
          "execution_count": 11
        }
      ]
    },
    {
      "cell_type": "markdown",
      "source": [
        "# II. Data Splitting\n",
        "\n",
        "The dataset is divided into training and testing sets to facilitate model training and evaluation."
      ],
      "metadata": {
        "id": "mWzKJugxFdq2"
      }
    },
    {
      "cell_type": "code",
      "source": [
        "# Split the data into feature matrix and target vector\n",
        "target = 'Rarity'\n",
        "\n",
        "y = df[target] # target vector\n",
        "X = df.drop(columns=target) # feature matrix"
      ],
      "metadata": {
        "id": "6_iBz15-6jWh"
      },
      "execution_count": 12,
      "outputs": []
    },
    {
      "cell_type": "code",
      "source": [
        "# Randomly split data into training and test sets\n",
        "X_train, X_test, y_train, y_test = train_test_split(X, y, test_size=0.2, random_state=42)"
      ],
      "metadata": {
        "id": "M1NJgStLKCuN"
      },
      "execution_count": 13,
      "outputs": []
    },
    {
      "cell_type": "markdown",
      "source": [
        "# III. Baseline Calculation\n",
        "\n",
        "Identify the most frequent class in the `Rarity` column of the training set and calculate the baseline accuracy score to serve as a reference point for model performance."
      ],
      "metadata": {
        "id": "XqeZBhe4Nph-"
      }
    },
    {
      "cell_type": "code",
      "source": [
        "# Check the distribution of the target column `Rarity`\n",
        "y_train.value_counts(normalize=True).plot(kind='bar', color=['cornflowerblue', 'coral', 'lightcoral', 'teal', 'mediumaquamarine', 'palevioletred'])\n",
        "plt.xlabel('Rarity - Target Class')\n",
        "plt.ylabel('Percentage (%)');"
      ],
      "metadata": {
        "colab": {
          "base_uri": "https://localhost:8080/",
          "height": 484
        },
        "id": "9r9ILpOjvCFN",
        "outputId": "1ff6b7e6-549a-45fd-f82d-0682883f27ab"
      },
      "execution_count": 14,
      "outputs": [
        {
          "output_type": "display_data",
          "data": {
            "text/plain": [
              "<Figure size 640x480 with 1 Axes>"
            ],
            "image/png": "[encoded data removed]"
          },
          "metadata": {}
        }
      ]
    },
    {
      "cell_type": "code",
      "source": [
        "y_train.value_counts().plot(kind='bar', color=['cornflowerblue', 'coral', 'lightcoral', 'teal', 'mediumaquamarine', 'palevioletred'])\n",
        "plt.xlabel('Rarity - Target Class')\n",
        "plt.ylabel('Counts');"
      ],
      "metadata": {
        "colab": {
          "base_uri": "https://localhost:8080/",
          "height": 484
        },
        "id": "Om-wuc7smYiZ",
        "outputId": "a3d50b7c-6727-4e73-d023-db0691033603"
      },
      "execution_count": 15,
      "outputs": [
        {
          "output_type": "display_data",
          "data": {
            "text/plain": [
              "<Figure size 640x480 with 1 Axes>"
            ],
            "image/png": "[encoded data removed]"
          },
          "metadata": {}
        }
      ]
    },
    {
      "cell_type": "code",
      "source": [
        "baseline = y_train.value_counts(normalize=True).idxmax()\n",
        "print('Baseline Majority Class:', baseline)"
      ],
      "metadata": {
        "colab": {
          "base_uri": "https://localhost:8080/"
        },
        "id": "mHGcoAH-OA7z",
        "outputId": "c8f83f15-bf51-4354-ee7c-b0aa204b838e"
      },
      "execution_count": 16,
      "outputs": [
        {
          "output_type": "stream",
          "name": "stdout",
          "text": [
            "Baseline Majority Class: Rank 0\n"
          ]
        }
      ]
    },
    {
      "cell_type": "code",
      "source": [
        "# Calculate the baseline accuracy score\n",
        "baseline_acc = y_train.value_counts(normalize=True).max()\n",
        "print('Baseline Accuracy Score:', baseline_acc)"
      ],
      "metadata": {
        "colab": {
          "base_uri": "https://localhost:8080/"
        },
        "id": "xA4PZFyxerZY",
        "outputId": "d7712f94-31dd-460c-ef62-9f04fca99f60"
      },
      "execution_count": 17,
      "outputs": [
        {
          "output_type": "stream",
          "name": "stdout",
          "text": [
            "Baseline Accuracy Score: 0.3025\n"
          ]
        }
      ]
    },
    {
      "cell_type": "markdown",
      "source": [
        "## IV. Model Building and Metrics Evaluation\n",
        "\n",
        "Choose three models for training and tuning:\n",
        "  - Random Forest (RF)\n",
        "  - Extreme Gradient Boosting (XGBoost)\n",
        "  - Support Vector Machines (SVM)\n",
        "\n",
        "Note: These models can handle both numerical and categorical features in the dataset.\n",
        "\n",
        "Evaluate models using metrics such as accuracy and ROC AUC OVO.\n",
        "\n",
        "Examine both imbalanced and balanced class scenarios to assess the models' performance."
      ],
      "metadata": {
        "id": "pJb-ushuT8Ac"
      }
    },
    {
      "cell_type": "markdown",
      "source": [
        "### Model 1A - Imbalanced Random Forest (RF)"
      ],
      "metadata": {
        "id": "UMJBhOrm_5a_"
      }
    },
    {
      "cell_type": "code",
      "source": [
        "# Model 1a - Imbalanced RF\n",
        "\n",
        "# Define the column transformer with different transformers for different column types\n",
        "preprocessor = ColumnTransformer([\n",
        "    ('numeric', StandardScaler(), ['Level', 'Health', 'Energy', 'Sanity']),\n",
        "    ('categorical', OneHotEncoder(), ['Type']),\n",
        "])\n",
        "\n",
        "# Create the pipeline\n",
        "imb_rf_model = Pipeline([\n",
        "    ('preprocessor', preprocessor),\n",
        "    ('classifier', RandomForestClassifier(random_state=42))\n",
        "])\n",
        "\n",
        "# Fit the model\n",
        "imb_rf_model.fit(X_train, y_train)\n",
        "\n",
        "# Evaluate the model using cross-validation\n",
        "cv = StratifiedKFold(n_splits=5, shuffle=True, random_state=42)\n",
        "scores = cross_val_score(imb_rf_model, X_train, y_train, cv=cv, scoring='roc_auc_ovo')\n",
        "print('Cross-Validation Scores:', scores)\n",
        "print('ROC AUC OvO Imbalanced RF:', np.mean(scores))"
      ],
      "metadata": {
        "colab": {
          "base_uri": "https://localhost:8080/"
        },
        "id": "61t4m1Xo2j3r",
        "outputId": "103668d3-5bfd-4d42-8837-3b55b30ddd12"
      },
      "execution_count": 18,
      "outputs": [
        {
          "output_type": "stream",
          "name": "stdout",
          "text": [
            "Cross-Validation Scores: [0.95978173 0.954271   0.92200945 0.97839372 0.97926687]\n",
            "ROC AUC OvO Imbalanced RF: 0.9587445566198092\n"
          ]
        }
      ]
    },
    {
      "cell_type": "code",
      "source": [
        "# Perform cross-validation and obtain predicted labels\n",
        "imb_rf_y_pred = cross_val_predict(imb_rf_model, X_train, y_train, cv=cv)\n",
        "# Imbalanced Random Forest Classification Report\n",
        "print('Imbalanced RF Classification Report: ')\n",
        "print(classification_report(y_train, imb_rf_y_pred))"
      ],
      "metadata": {
        "colab": {
          "base_uri": "https://localhost:8080/"
        },
        "id": "Nr-nWrKaJpAv",
        "outputId": "1f209371-7423-4c98-9db3-232bdef60ab1"
      },
      "execution_count": 19,
      "outputs": [
        {
          "output_type": "stream",
          "name": "stdout",
          "text": [
            "Imbalanced RF Classification Report: \n",
            "              precision    recall  f1-score   support\n",
            "\n",
            "      Rank 0       0.99      1.00      0.99       363\n",
            "      Rank 1       0.96      0.98      0.97       306\n",
            "      Rank 2       0.89      0.95      0.92       257\n",
            "      Rank 3       0.87      0.85      0.86       157\n",
            "      Rank 4       0.77      0.75      0.76        89\n",
            "      Rank 5       1.00      0.25      0.40        28\n",
            "\n",
            "    accuracy                           0.93      1200\n",
            "   macro avg       0.91      0.80      0.82      1200\n",
            "weighted avg       0.93      0.93      0.92      1200\n",
            "\n"
          ]
        }
      ]
    },
    {
      "cell_type": "markdown",
      "source": [
        "###  Model 2A - Imbalanced Extreme Gradient Boosting (XGBoost)"
      ],
      "metadata": {
        "id": "pHPFzE63OTan"
      }
    },
    {
      "cell_type": "code",
      "source": [
        "# Model 2a - Imbalanced XGBoost\n",
        "\n",
        "# Specify the column names for numeric and categorical columns\n",
        "numeric_cols = ['Level', 'Health', 'Energy', 'Sanity']\n",
        "categorical_cols = ['Type']\n",
        "\n",
        "# Create the transformers for preprocessing\n",
        "numeric_transformer = StandardScaler()\n",
        "categorical_transformer = OneHotEncoder()\n",
        "\n",
        "# Create the preprocessor using ColumnTransformer\n",
        "preprocessor = ColumnTransformer(\n",
        "    transformers=[\n",
        "        ('numeric', numeric_transformer, numeric_cols),\n",
        "        ('categorical', categorical_transformer, categorical_cols)\n",
        "    ],\n",
        "    remainder='drop'  # Exclude remaining columns from the pipeline\n",
        ")\n",
        "\n",
        "# Perform label encoding on the target variable on train set\n",
        "label_encoder = LabelEncoder()\n",
        "y_train_encoded = label_encoder.fit_transform(y_train)\n",
        "\n",
        "# Create the pipeline\n",
        "imb_xgb_model = Pipeline([\n",
        "    ('preprocessor', preprocessor),\n",
        "    ('classifier', XGBClassifier(objective='multi:softmax', num_class=len(np.unique(y_train)), random_state=42))\n",
        "])\n",
        "\n",
        "# Fit the model\n",
        "imb_xgb_model.fit(X_train, y_train_encoded)\n",
        "\n",
        "# Evaluate the model using cross-validation\n",
        "cv = StratifiedKFold(n_splits=5, shuffle=True, random_state=42)\n",
        "scores = cross_val_score(imb_xgb_model, X_train, y_train_encoded, cv=cv, scoring='roc_auc_ovo')\n",
        "print('Cross-Validation Scores:', scores)\n",
        "print('ROC AUC OvO Imbalanced XGB:', scores.mean())\n"
      ],
      "metadata": {
        "colab": {
          "base_uri": "https://localhost:8080/"
        },
        "id": "-dEUtTFzOnJ7",
        "outputId": "31808acd-828a-4c44-c55d-2f17ed5e7cbf"
      },
      "execution_count": 20,
      "outputs": [
        {
          "output_type": "stream",
          "name": "stdout",
          "text": [
            "Cross-Validation Scores: [0.97000018 0.93690656 0.89317391 0.97441707 0.98008927]\n",
            "ROC AUC OvO Imbalanced XGB: 0.9509173960536714\n"
          ]
        }
      ]
    },
    {
      "cell_type": "code",
      "source": [
        "# Perform cross-validation and obtain predicted labels\n",
        "imb_xgb_y_pred = cross_val_predict(imb_xgb_model, X_train, y_train_encoded, cv=cv)\n",
        "# Imbalanced Random Forest Classification Report\n",
        "print('Imbalanced XGBoost Classification Report: ')\n",
        "print(classification_report(y_train_encoded, imb_xgb_y_pred))"
      ],
      "metadata": {
        "colab": {
          "base_uri": "https://localhost:8080/"
        },
        "id": "xZjyTktsk86F",
        "outputId": "5c6fa536-6155-4b3d-f81b-2cc949524c15"
      },
      "execution_count": 21,
      "outputs": [
        {
          "output_type": "stream",
          "name": "stdout",
          "text": [
            "Imbalanced XGBoost Classification Report: \n",
            "              precision    recall  f1-score   support\n",
            "\n",
            "           0       1.00      0.99      1.00       363\n",
            "           1       0.96      0.99      0.98       306\n",
            "           2       0.94      0.95      0.95       257\n",
            "           3       0.88      0.90      0.89       157\n",
            "           4       0.74      0.78      0.76        89\n",
            "           5       0.82      0.32      0.46        28\n",
            "\n",
            "    accuracy                           0.94      1200\n",
            "   macro avg       0.89      0.82      0.84      1200\n",
            "weighted avg       0.94      0.94      0.94      1200\n",
            "\n"
          ]
        }
      ]
    },
    {
      "cell_type": "markdown",
      "source": [
        "### Model 3A - Imbalanced Support Vector Machines (SVM)"
      ],
      "metadata": {
        "id": "wK-909l2GCn5"
      }
    },
    {
      "cell_type": "code",
      "source": [
        "# Model 3a - Imbalanced SVM\n",
        "\n",
        "# Define the column transformer with different transformers for different column types\n",
        "preprocessor = ColumnTransformer([\n",
        "    ('numeric', StandardScaler(), ['Level', 'Health', 'Energy', 'Sanity']),\n",
        "    ('categorical', OneHotEncoder(), ['Type']),\n",
        "])\n",
        "\n",
        "# Create the pipeline\n",
        "imb_svm_model = Pipeline([\n",
        "    ('preprocessor', preprocessor),\n",
        "    ('classifier', SVC(random_state=42,\n",
        "                       probability=True,\n",
        "                       decision_function_shape='ovo'))\n",
        "])\n",
        "\n",
        "# Fit the model\n",
        "imb_svm_model.fit(X_train, y_train)\n",
        "\n",
        "# Evaluate the model using cross-validation\n",
        "cv = StratifiedKFold(n_splits=5, shuffle=True, random_state=42)\n",
        "imb_svm_scores = cross_val_score(imb_svm_model, X_train, y_train, cv=cv, scoring='roc_auc_ovo')\n",
        "print('Cross-Validation Scores:', imb_svm_scores)\n",
        "print('ROC AUC OvO Imbalanced SVM:', imb_svm_scores.mean())"
      ],
      "metadata": {
        "colab": {
          "base_uri": "https://localhost:8080/"
        },
        "id": "rN5ge9mZGIYX",
        "outputId": "18468792-0d7f-4a55-9db7-7497a863caf5"
      },
      "execution_count": 22,
      "outputs": [
        {
          "output_type": "stream",
          "name": "stdout",
          "text": [
            "Cross-Validation Scores: [0.97798678 0.97480065 0.96601558 0.99027981 0.9909615 ]\n",
            "ROC AUC OvO Imbalanced SVM: 0.9800088622224434\n"
          ]
        }
      ]
    },
    {
      "cell_type": "code",
      "source": [
        "# Imbalanced SVM Classification Report\n",
        "# Perform cross-validation and obtain predicted labels\n",
        "imb_svm_y_pred = cross_val_predict(imb_svm_model, X_train, y_train, cv=cv)\n",
        "print('Imbalanced SVM Classification Report: ')\n",
        "print(classification_report(y_train, imb_svm_y_pred, zero_division=0))"
      ],
      "metadata": {
        "colab": {
          "base_uri": "https://localhost:8080/"
        },
        "id": "UyFvYHk0GIbl",
        "outputId": "1220098a-113f-43ce-f35d-d8e2cc65e3dc"
      },
      "execution_count": 23,
      "outputs": [
        {
          "output_type": "stream",
          "name": "stdout",
          "text": [
            "Imbalanced SVM Classification Report: \n",
            "              precision    recall  f1-score   support\n",
            "\n",
            "      Rank 0       0.96      1.00      0.98       363\n",
            "      Rank 1       0.89      0.96      0.92       306\n",
            "      Rank 2       0.85      0.86      0.85       257\n",
            "      Rank 3       0.81      0.80      0.80       157\n",
            "      Rank 4       0.72      0.61      0.66        89\n",
            "      Rank 5       0.00      0.00      0.00        28\n",
            "\n",
            "    accuracy                           0.88      1200\n",
            "   macro avg       0.70      0.70      0.70      1200\n",
            "weighted avg       0.86      0.88      0.87      1200\n",
            "\n"
          ]
        }
      ]
    },
    {
      "cell_type": "markdown",
      "source": [
        "### Model 1B -  Balanced Random Forest (RF)"
      ],
      "metadata": {
        "id": "My7b6IlYAEYs"
      }
    },
    {
      "cell_type": "code",
      "source": [
        "# Model 1b - Balanced RF\n",
        "\n",
        "# Specify the column names for numeric and categorical columns\n",
        "numeric_cols = ['Level', 'Health', 'Energy', 'Sanity']\n",
        "categorical_cols = ['Type']\n",
        "\n",
        "# Create the transformers for preprocessing\n",
        "numeric_transformer = StandardScaler()\n",
        "categorical_transformer = OneHotEncoder()\n",
        "\n",
        "# Create the preprocessor using ColumnTransformer\n",
        "preprocessor = ColumnTransformer(\n",
        "    transformers=[\n",
        "        ('numeric', numeric_transformer, numeric_cols),\n",
        "        ('categorical', categorical_transformer, categorical_cols)\n",
        "    ],\n",
        "    remainder='drop'  # Exclude remaining columns from the pipeline\n",
        ")\n",
        "\n",
        "# Create the pipeline with preprocessing, oversampling, undersampling, and model\n",
        "bal_rf_model = Pipeline([\n",
        "    ('preprocessor', preprocessor),\n",
        "    ('oversampling', SMOTE(sampling_strategy='auto', random_state=42)),\n",
        "    ('undersampling', RandomUnderSampler(sampling_strategy='auto', random_state=42)),\n",
        "    ('classifier', RandomForestClassifier(random_state=42))\n",
        "])\n",
        "\n",
        "# Fit the model\n",
        "bal_rf_model.fit(X_train, y_train)\n",
        "\n",
        "# Evaluate the model using cross-validation\n",
        "cv = StratifiedKFold(n_splits=5, shuffle=True, random_state=42)\n",
        "bal_rf_scores = cross_val_score(bal_rf_model, X_train, y_train, cv=cv, scoring='roc_auc_ovo')\n",
        "print('Cross-Validation Scores:', bal_rf_scores)\n",
        "print('ROC AUC OvO Balanced RF:', bal_rf_scores.mean())\n"
      ],
      "metadata": {
        "colab": {
          "base_uri": "https://localhost:8080/"
        },
        "id": "kfM350yr9rsq",
        "outputId": "e3a0c0d8-30f5-427c-f3e4-c62889c7a139"
      },
      "execution_count": 24,
      "outputs": [
        {
          "output_type": "stream",
          "name": "stdout",
          "text": [
            "Cross-Validation Scores: [0.97482052 0.96157321 0.9083498  0.98483507 0.9715284 ]\n",
            "ROC AUC OvO Balanced RF: 0.9602214013749324\n"
          ]
        }
      ]
    },
    {
      "cell_type": "code",
      "source": [
        "# Perform cross-validation and obtain predicted labels\n",
        "bal_rf_y_pred = cross_val_predict(bal_rf_model, X_train, y_train, cv=cv)\n",
        "# Imbalanced Random Forest Classification Report\n",
        "print('Balanced RF Classification Report: ')\n",
        "print(classification_report(y_train, bal_rf_y_pred))"
      ],
      "metadata": {
        "colab": {
          "base_uri": "https://localhost:8080/"
        },
        "id": "Fj4Zkg5QIs-C",
        "outputId": "3519ecd9-4894-4f75-c972-4e643f989d6f"
      },
      "execution_count": 25,
      "outputs": [
        {
          "output_type": "stream",
          "name": "stdout",
          "text": [
            "Balanced RF Classification Report: \n",
            "              precision    recall  f1-score   support\n",
            "\n",
            "      Rank 0       0.98      0.99      0.99       363\n",
            "      Rank 1       0.97      0.98      0.97       306\n",
            "      Rank 2       0.95      0.95      0.95       257\n",
            "      Rank 3       0.82      0.87      0.84       157\n",
            "      Rank 4       0.69      0.66      0.68        89\n",
            "      Rank 5       0.68      0.46      0.55        28\n",
            "\n",
            "    accuracy                           0.93      1200\n",
            "   macro avg       0.85      0.82      0.83      1200\n",
            "weighted avg       0.92      0.93      0.92      1200\n",
            "\n"
          ]
        }
      ]
    },
    {
      "cell_type": "markdown",
      "source": [
        "### Model 2B - Balanced Extreme Gradient Boosting (XGBoost)"
      ],
      "metadata": {
        "id": "qA5zLSwAoQsQ"
      }
    },
    {
      "cell_type": "code",
      "source": [
        "# Model 2b - Balanced XGBoost\n",
        "\n",
        "# Specify the column names for numeric and categorical columns\n",
        "numeric_cols = ['Level', 'Health', 'Energy', 'Sanity']\n",
        "categorical_cols = ['Type']\n",
        "\n",
        "# Create the transformers for preprocessing\n",
        "numeric_transformer = StandardScaler()\n",
        "categorical_transformer = OneHotEncoder()\n",
        "\n",
        "# Create the preprocessor using ColumnTransformer\n",
        "preprocessor = ColumnTransformer(\n",
        "    transformers=[\n",
        "        ('numeric', numeric_transformer, numeric_cols),\n",
        "        ('categorical', categorical_transformer, categorical_cols)\n",
        "    ],\n",
        "    remainder='drop'  # Exclude remaining columns from the pipeline\n",
        ")\n",
        "\n",
        "# Create the label encoder\n",
        "label_encoder = LabelEncoder()\n",
        "y_train_encoded = label_encoder.fit_transform(y_train)\n",
        "\n",
        "# Create the pipeline with preprocessing, oversampling, undersampling, and model\n",
        "bal_xgb_model = Pipeline([\n",
        "    ('preprocessor', preprocessor),\n",
        "    ('oversampler', SMOTE(random_state=42)),\n",
        "    ('undersampler', RandomUnderSampler(random_state=42)),\n",
        "    ('classifier', XGBClassifier(objective='multi:softmax', num_class=len(np.unique(y_train_encoded)), random_state=42))\n",
        "])\n",
        "\n",
        "# Fit the model\n",
        "bal_xgb_model.fit(X_train, y_train_encoded)\n",
        "\n",
        "# Evaluate the model using cross-validation\n",
        "cv = StratifiedKFold(n_splits=5, shuffle=True, random_state=42)\n",
        "bal_xgb_scores = cross_val_score(bal_xgb_model, X_train, y_train_encoded, cv=cv, scoring='roc_auc_ovo')\n",
        "print('Cross-Validation Scores:', bal_xgb_scores)\n",
        "print('ROC AUC OvO Balanced XGB:', bal_xgb_scores.mean())\n"
      ],
      "metadata": {
        "colab": {
          "base_uri": "https://localhost:8080/"
        },
        "id": "FkE7_bb-dnDJ",
        "outputId": "c0627ded-461f-455a-f174-90d343736302"
      },
      "execution_count": 26,
      "outputs": [
        {
          "output_type": "stream",
          "name": "stdout",
          "text": [
            "Cross-Validation Scores: [0.98504535 0.96406289 0.88383206 0.98736172 0.98696265]\n",
            "ROC AUC OvO Balanced XGB: 0.961452933038248\n"
          ]
        }
      ]
    },
    {
      "cell_type": "code",
      "source": [
        "# Perform cross-validation and obtain predicted labels\n",
        "bal_xgb_y_pred = cross_val_predict(bal_xgb_model, X_train, y_train_encoded, cv=cv)\n",
        "# Imbalanced Random Forest Classification Report\n",
        "print('Balanced XGBoost Classification Report: ')\n",
        "print(classification_report(y_train_encoded, bal_xgb_y_pred))"
      ],
      "metadata": {
        "colab": {
          "base_uri": "https://localhost:8080/"
        },
        "id": "99EG0evEmkYR",
        "outputId": "773bd011-d1fa-4e2d-b4c8-bd4c19b4e20c"
      },
      "execution_count": 27,
      "outputs": [
        {
          "output_type": "stream",
          "name": "stdout",
          "text": [
            "Balanced XGBoost Classification Report: \n",
            "              precision    recall  f1-score   support\n",
            "\n",
            "           0       0.99      1.00      1.00       363\n",
            "           1       0.98      0.98      0.98       306\n",
            "           2       0.96      0.95      0.96       257\n",
            "           3       0.92      0.91      0.91       157\n",
            "           4       0.78      0.85      0.82        89\n",
            "           5       0.72      0.46      0.57        28\n",
            "\n",
            "    accuracy                           0.95      1200\n",
            "   macro avg       0.89      0.86      0.87      1200\n",
            "weighted avg       0.95      0.95      0.95      1200\n",
            "\n"
          ]
        }
      ]
    },
    {
      "cell_type": "markdown",
      "source": [
        "### Model 3B - Balanced Support Vector Machines (SVM)"
      ],
      "metadata": {
        "id": "AK0Cfjk7GJx1"
      }
    },
    {
      "cell_type": "code",
      "source": [
        "# Model 3b - SVM Balanced\n",
        "\n",
        "# Specify the column names for numeric and categorical columns\n",
        "numeric_cols = ['Level', 'Health', 'Energy', 'Sanity']\n",
        "categorical_cols = ['Type']\n",
        "\n",
        "# Create the transformers for preprocessing\n",
        "numeric_transformer = StandardScaler()\n",
        "categorical_transformer = OneHotEncoder()\n",
        "\n",
        "# Create the preprocessor using ColumnTransformer\n",
        "preprocessor = ColumnTransformer(\n",
        "    transformers=[\n",
        "        ('numeric', numeric_transformer, numeric_cols),\n",
        "        ('categorical', categorical_transformer, categorical_cols)\n",
        "    ],\n",
        "    remainder='drop'  # Exclude remaining columns from the pipeline\n",
        ")\n",
        "\n",
        "# Create the pipeline with preprocessing, oversampling, undersampling, and model\n",
        "bal_svm_model = Pipeline([\n",
        "    ('preprocessor', preprocessor),\n",
        "    ('oversampling', SMOTE(sampling_strategy='auto', random_state=42)),\n",
        "    ('undersampling', RandomUnderSampler(random_state=42)),\n",
        "    ('classifier', SVC(random_state=42,\n",
        "                       probability=True,\n",
        "                       decision_function_shape='ovo'))\n",
        "])\n",
        "\n",
        "# Fit the model\n",
        "bal_svm_model.fit(X_train, y_train)\n",
        "\n",
        "# Evaluate the model using cross-validation\n",
        "cv = StratifiedKFold(n_splits=5, shuffle=True, random_state=42)\n",
        "bal_svm_scores = cross_val_score(bal_svm_model, X_train, y_train, cv=cv, scoring='roc_auc_ovo')\n",
        "print('Cross-Validation Scores:', bal_svm_scores)\n",
        "print('ROC AUC OvO Balanced SVM:', bal_svm_scores.mean())\n"
      ],
      "metadata": {
        "colab": {
          "base_uri": "https://localhost:8080/"
        },
        "id": "TYE1nYv3GPYG",
        "outputId": "98ace6c0-22d1-40d0-95a4-b6f67cbb16ce"
      },
      "execution_count": 28,
      "outputs": [
        {
          "output_type": "stream",
          "name": "stdout",
          "text": [
            "Cross-Validation Scores: [0.98928975 0.99318055 0.91904762 0.97989563 0.98606696]\n",
            "ROC AUC OvO Balanced SVM: 0.9734961009815477\n"
          ]
        }
      ]
    },
    {
      "cell_type": "code",
      "source": [
        "# Balanced SVM Classification Report\n",
        "# Perform cross-validation and obtain predicted labels\n",
        "bal_svm_y_pred = cross_val_predict(bal_svm_model, X_train, y_train, cv=cv)\n",
        "print('Balanced SVM Classification Report: ')\n",
        "print(classification_report(y_train, bal_svm_y_pred, zero_division=0))"
      ],
      "metadata": {
        "colab": {
          "base_uri": "https://localhost:8080/"
        },
        "id": "TikWnxd1GPdZ",
        "outputId": "ec286c72-693f-4526-c4da-128d6d8bd8a3"
      },
      "execution_count": 29,
      "outputs": [
        {
          "output_type": "stream",
          "name": "stdout",
          "text": [
            "Balanced SVM Classification Report: \n",
            "              precision    recall  f1-score   support\n",
            "\n",
            "      Rank 0       0.97      1.00      0.98       363\n",
            "      Rank 1       0.90      0.97      0.93       306\n",
            "      Rank 2       0.92      0.87      0.90       257\n",
            "      Rank 3       0.94      0.85      0.89       157\n",
            "      Rank 4       0.83      0.76      0.80        89\n",
            "      Rank 5       0.71      0.71      0.71        28\n",
            "\n",
            "    accuracy                           0.92      1200\n",
            "   macro avg       0.88      0.86      0.87      1200\n",
            "weighted avg       0.92      0.92      0.92      1200\n",
            "\n"
          ]
        }
      ]
    },
    {
      "cell_type": "markdown",
      "source": [
        "## V. Hyperparameter Tuning\n",
        "\n",
        "Perform hyperparameter tuning on balanced models using randomized search technique. Explore various hyperparameter combinations and select the set of hyperparameters that maximizes the `roc_auc_ovo` score."
      ],
      "metadata": {
        "id": "3QDZbl6PDeyA"
      }
    },
    {
      "cell_type": "markdown",
      "source": [
        "### Tuning The Random Forest (RF) Model"
      ],
      "metadata": {
        "id": "c2691E7AoZIw"
      }
    },
    {
      "cell_type": "code",
      "source": [
        "%%time\n",
        "# Balanced Random Forest Tuning\n",
        "\n",
        "# Define the parameter distribution\n",
        "param_grid = {\n",
        "    # Number of trees in random forest\n",
        "    'classifier__n_estimators': range(100, 1000, 10),\n",
        "    # Number of features to consider at every split\n",
        "    'classifier__max_features': ['log2', 'sqrt', None],\n",
        "    # Maximum number of levels in tree\n",
        "    'classifier__max_depth': [None, 5, 10, 20, 50],\n",
        "    # Minimum number of samples required to split a node\n",
        "    'classifier__min_samples_split': [3, 4, 5, 7, 8],\n",
        "    # Method of selecting sample for training each tree\n",
        "    'classifier__bootstrap': [True, False]\n",
        "}\n",
        "\n",
        "# Create the randomized search object\n",
        "random_search_rf = RandomizedSearchCV(estimator=bal_rf_model, scoring='roc_auc_ovo', param_distributions=param_grid, n_iter=10, cv=15, random_state=42, n_jobs =-1)\n",
        "\n",
        "# Fit the randomized search to the training data\n",
        "random_search_rf.fit(X_train, y_train)\n",
        "\n",
        "# Print the best parameters and best score\n",
        "print('Best Hyperparameters:', random_search_rf.best_params_)\n",
        "print('Best Score:', random_search_rf.best_score_)\n"
      ],
      "metadata": {
        "colab": {
          "base_uri": "https://localhost:8080/"
        },
        "id": "3CIFSsCmHBrN",
        "outputId": "8017235a-5f02-40cd-9fd8-27a9164a821b"
      },
      "execution_count": 30,
      "outputs": [
        {
          "output_type": "stream",
          "name": "stdout",
          "text": [
            "Best Hyperparameters: {'classifier__n_estimators': 710, 'classifier__min_samples_split': 5, 'classifier__max_features': None, 'classifier__max_depth': 20, 'classifier__bootstrap': True}\n",
            "Best Score: 0.9891851333125843\n",
            "CPU times: user 7.68 s, sys: 319 ms, total: 7.99 s\n",
            "Wall time: 7min 3s\n"
          ]
        }
      ]
    },
    {
      "cell_type": "code",
      "source": [
        "%%time\n",
        "# Build a RF Model with the tuned hyperparameters\n",
        "\n",
        "# Specify the column names for numeric and categorical columns\n",
        "numeric_cols = ['Level', 'Health', 'Energy', 'Sanity']\n",
        "categorical_cols = ['Type']\n",
        "\n",
        "# Create the transformers for preprocessing\n",
        "numeric_transformer = StandardScaler()\n",
        "categorical_transformer = OneHotEncoder()\n",
        "\n",
        "# Create the preprocessor using ColumnTransformer\n",
        "preprocessor = ColumnTransformer(\n",
        "    transformers=[\n",
        "        ('numeric', numeric_transformer, numeric_cols),\n",
        "        ('categorical', categorical_transformer, categorical_cols)\n",
        "    ],\n",
        "    remainder='drop'  # Exclude remaining columns from the pipeline\n",
        ")\n",
        "\n",
        "# Create the pipeline with preprocessing, oversampling, undersampling, and model\n",
        "tuned_rf_model = Pipeline([\n",
        "    ('preprocessor', preprocessor),\n",
        "    ('oversampling', SMOTE(sampling_strategy='auto', random_state=42, k_neighbors=3)),\n",
        "    ('undersampling', RandomUnderSampler(random_state=42)),\n",
        "    ('classifier', RandomForestClassifier(n_estimators=710,\n",
        "                                          min_samples_split=5,\n",
        "                                          max_features=None,\n",
        "                                          max_depth=20,\n",
        "                                          bootstrap=True,\n",
        "                                          random_state=42))\n",
        "])\n",
        "\n",
        "# Fit the model\n",
        "tuned_rf_model.fit(X_train, y_train)\n",
        "\n",
        "# Evaluate the model using cross-validation\n",
        "cv = StratifiedKFold(n_splits=5, shuffle=True, random_state=42)\n",
        "tuned_rf_scores = cross_val_score(tuned_rf_model, X_train, y_train, cv=cv, scoring='roc_auc_ovo')\n",
        "print('Cross-Validation Scores:', tuned_rf_scores)\n",
        "print('ROC AUC OvO Tuned RF:', tuned_rf_scores.mean())\n"
      ],
      "metadata": {
        "colab": {
          "base_uri": "https://localhost:8080/"
        },
        "id": "mwjbmoTPBdp9",
        "outputId": "b2e9c5a4-b47e-4a43-bd1c-e03f72dfad93"
      },
      "execution_count": 31,
      "outputs": [
        {
          "output_type": "stream",
          "name": "stdout",
          "text": [
            "Cross-Validation Scores: [0.99398556 0.9727556  0.9306857  0.98685856 0.98762387]\n",
            "ROC AUC OvO Tuned RF: 0.9743818580335268\n",
            "CPU times: user 28.8 s, sys: 146 ms, total: 28.9 s\n",
            "Wall time: 31.8 s\n"
          ]
        }
      ]
    },
    {
      "cell_type": "code",
      "source": [
        "# Measure the improvement of the Random Forest (RF) model after tuning the hyperparameters\n",
        "print('Improvement of {:0.2f}%.'.format( 100 * (tuned_rf_scores.mean() - bal_rf_scores.mean()) /bal_rf_scores.mean()))"
      ],
      "metadata": {
        "colab": {
          "base_uri": "https://localhost:8080/"
        },
        "id": "cQPf1Hd2_6Tb",
        "outputId": "43aa2805-b840-4de4-cc02-d436eba332f7"
      },
      "execution_count": 32,
      "outputs": [
        {
          "output_type": "stream",
          "name": "stdout",
          "text": [
            "Improvement of 1.47%.\n"
          ]
        }
      ]
    },
    {
      "cell_type": "code",
      "source": [
        "# Perform cross-validation and obtain predicted labels\n",
        "tuned_rf_y_pred = cross_val_predict(tuned_rf_model, X_train, y_train, cv=cv)\n",
        "print('Tuned RF Classification Report: ')\n",
        "print(classification_report(y_train, tuned_rf_y_pred))"
      ],
      "metadata": {
        "colab": {
          "base_uri": "https://localhost:8080/"
        },
        "id": "h-kwfiDdDWAv",
        "outputId": "d094331c-5d72-4fd4-921e-e6394f8a1c75"
      },
      "execution_count": 35,
      "outputs": [
        {
          "output_type": "stream",
          "name": "stdout",
          "text": [
            "Tuned RF Classification Report: \n",
            "              precision    recall  f1-score   support\n",
            "\n",
            "      Rank 0       1.00      1.00      1.00       363\n",
            "      Rank 1       0.98      0.99      0.99       306\n",
            "      Rank 2       0.97      0.97      0.97       257\n",
            "      Rank 3       0.94      0.92      0.93       157\n",
            "      Rank 4       0.78      0.81      0.80        89\n",
            "      Rank 5       0.56      0.50      0.53        28\n",
            "\n",
            "    accuracy                           0.95      1200\n",
            "   macro avg       0.87      0.87      0.87      1200\n",
            "weighted avg       0.95      0.95      0.95      1200\n",
            "\n"
          ]
        }
      ]
    },
    {
      "cell_type": "markdown",
      "source": [
        "### Tuning The Extreme Gradient Boosting (XGBoost) Model"
      ],
      "metadata": {
        "id": "R1vOH5RXEw0E"
      }
    },
    {
      "cell_type": "code",
      "source": [
        "%%time\n",
        "# Balanced XGBoost Tuning\n",
        "\n",
        "# Define the parameter distribution\n",
        "param_grid_xgb = {\n",
        "    # Control how much the model learns from each mistake it makes\n",
        "    'classifier__learning_rate': np.arange(0.01, 0.1, 0.01),\n",
        "    # Number of decision trees to be built\n",
        "    'classifier__n_estimators': range(100, 1000, 100),\n",
        "    # Maximum depth of each decision tree\n",
        "    'classifier__max_depth': [3, 5, 8, 10, 15],\n",
        "    # Minimum number of instances required in each child node\n",
        "    'classifier__min_child_weight': range(1, 11),\n",
        "    # Pruning of decision tree branches if the improvement is not significant enough\n",
        "    'classifier__gamma': np.arange(0, 1.1, 0.1),\n",
        "    # Fraction of samples used to train each tree\n",
        "    'classifier__subsample': np.arange(0.1, 1.1, 0.1),\n",
        "    # Fraction of features used to train each tree\n",
        "    'classifier__colsample_bytree': np.arange(0.5, 1.0, 0.1),\n",
        "}\n",
        "\n",
        "# Create the randomized search object\n",
        "rsearch_xgb = RandomizedSearchCV(estimator=bal_xgb_model, scoring='roc_auc_ovo', param_distributions=param_grid_xgb, n_iter=10, cv=15, random_state=42, n_jobs=-1)\n",
        "\n",
        "# Fit the randomized search to the training data\n",
        "rsearch_xgb.fit(X_train, y_train_encoded)\n",
        "\n",
        "# Print the best parameters and best score\n",
        "print('Best Parameters:', rsearch_xgb.best_params_)\n",
        "print('Best Score:', rsearch_xgb.best_score_)\n"
      ],
      "metadata": {
        "colab": {
          "base_uri": "https://localhost:8080/"
        },
        "id": "V3K97MpISzU3",
        "outputId": "56a6e3ea-61a8-4d11-d97f-4787736e99c1"
      },
      "execution_count": 36,
      "outputs": [
        {
          "output_type": "stream",
          "name": "stdout",
          "text": [
            "Best Parameters: {'classifier__subsample': 0.8, 'classifier__n_estimators': 700, 'classifier__min_child_weight': 1, 'classifier__max_depth': 15, 'classifier__learning_rate': 0.08, 'classifier__gamma': 0.6000000000000001, 'classifier__colsample_bytree': 0.5}\n",
            "Best Score: 0.9803562840983755\n",
            "CPU times: user 21.7 s, sys: 677 ms, total: 22.3 s\n",
            "Wall time: 8min 27s\n"
          ]
        }
      ]
    },
    {
      "cell_type": "code",
      "source": [
        "%%time\n",
        "# Build XGBoost Model with the tuned hyperparameters\n",
        "\n",
        "# Specify the column names for numeric and categorical columns\n",
        "numeric_cols = ['Level', 'Health', 'Energy', 'Sanity']\n",
        "categorical_cols = ['Type']\n",
        "\n",
        "# Create the transformers for preprocessing\n",
        "numeric_transformer = StandardScaler()\n",
        "categorical_transformer = OneHotEncoder()\n",
        "\n",
        "# Create the preprocessor using ColumnTransformer\n",
        "preprocessor = ColumnTransformer(\n",
        "    transformers=[\n",
        "        ('numeric', numeric_transformer, numeric_cols),\n",
        "        ('categorical', categorical_transformer, categorical_cols)\n",
        "    ],\n",
        "    remainder='drop'  # Exclude remaining columns from the pipeline\n",
        ")\n",
        "\n",
        "# Create the label encoder\n",
        "label_encoder = LabelEncoder()\n",
        "y_train_encoded = label_encoder.fit_transform(y_train)\n",
        "\n",
        "# Create the pipeline with preprocessing, oversampling, undersampling, and model\n",
        "tuned_xgb_model = Pipeline([\n",
        "    ('preprocessor', preprocessor),\n",
        "    ('oversampler', SMOTE(random_state=42)),\n",
        "    ('undersampler', RandomUnderSampler(random_state=42)),\n",
        "    ('classifier', XGBClassifier(objective='multi:softmax',\n",
        "                                 num_class=len(np.unique(y_train_encoded)),\n",
        "                                 random_state=42,\n",
        "                                 subsample=0.8,\n",
        "                                 n_estimators=700,\n",
        "                                 min_child_weight=1,\n",
        "                                 max_depth=15,\n",
        "                                 learning_rate=0.08,\n",
        "                                 gamma=0.6000000000000001,\n",
        "                                 colsample_bytree=0.5))\n",
        "])\n",
        "\n",
        "# Fit the model\n",
        "tuned_xgb_model.fit(X_train, y_train_encoded)\n",
        "\n",
        "# Evaluate the model using cross-validation\n",
        "cv = StratifiedKFold(n_splits=5, shuffle=True, random_state=42)\n",
        "tuned_xgb_scores = cross_val_score(tuned_xgb_model, X_train, y_train_encoded, cv=cv, scoring='roc_auc_ovo')\n",
        "print('Cross-Validation Scores:', tuned_xgb_scores)\n",
        "print('ROC AUC OvO Tuned XGB:', tuned_xgb_scores.mean())"
      ],
      "metadata": {
        "colab": {
          "base_uri": "https://localhost:8080/"
        },
        "id": "ZpyuY1mXE8W_",
        "outputId": "cae745d8-ce7a-4f92-e634-265cc17e18ea"
      },
      "execution_count": 37,
      "outputs": [
        {
          "output_type": "stream",
          "name": "stdout",
          "text": [
            "Cross-Validation Scores: [0.9873091  0.96147752 0.9164436  0.99110374 0.98896557]\n",
            "ROC AUC OvO Tuned XGB: 0.9690599064819768\n",
            "CPU times: user 2min, sys: 1.93 s, total: 2min 2s\n",
            "Wall time: 1min 24s\n"
          ]
        }
      ]
    },
    {
      "cell_type": "code",
      "source": [
        "# Measure the improvement of the XGBoost model after tuning the hyperparameters\n",
        "print('Improvement of {:0.2f}%.'.format( 100 * (tuned_xgb_scores.mean() - bal_xgb_scores.mean()) /bal_xgb_scores.mean()))"
      ],
      "metadata": {
        "colab": {
          "base_uri": "https://localhost:8080/"
        },
        "id": "EhgTVLWQE8gn",
        "outputId": "0ed0dc45-420d-4443-9ce3-a6a96eecc252"
      },
      "execution_count": 38,
      "outputs": [
        {
          "output_type": "stream",
          "name": "stdout",
          "text": [
            "Improvement of 0.79%.\n"
          ]
        }
      ]
    },
    {
      "cell_type": "code",
      "source": [
        "# Tuned XGBoost Classification Report\n",
        "\n",
        "# Perform cross-validation and obtain predicted labels\n",
        "tuned_xgb_y_pred = cross_val_predict(tuned_xgb_model, X_train, y_train_encoded, cv=cv)\n",
        "print('Tuned XGB Classification Report: ')\n",
        "print(classification_report(y_train_encoded, tuned_xgb_y_pred))"
      ],
      "metadata": {
        "colab": {
          "base_uri": "https://localhost:8080/"
        },
        "id": "IVVprDIWW4QH",
        "outputId": "4c400df9-d1f9-45e7-9aae-1ebb1cc6e255"
      },
      "execution_count": 40,
      "outputs": [
        {
          "output_type": "stream",
          "name": "stdout",
          "text": [
            "Tuned XGB Classification Report: \n",
            "              precision    recall  f1-score   support\n",
            "\n",
            "           0       0.99      0.99      0.99       363\n",
            "           1       0.97      0.98      0.97       306\n",
            "           2       0.95      0.96      0.95       257\n",
            "           3       0.92      0.90      0.91       157\n",
            "           4       0.79      0.83      0.81        89\n",
            "           5       0.74      0.50      0.60        28\n",
            "\n",
            "    accuracy                           0.95      1200\n",
            "   macro avg       0.89      0.86      0.87      1200\n",
            "weighted avg       0.95      0.95      0.95      1200\n",
            "\n"
          ]
        }
      ]
    },
    {
      "cell_type": "markdown",
      "source": [
        "### Tuning The Support Vector Machines (SVM) Model"
      ],
      "metadata": {
        "id": "-ackPTC1AcH0"
      }
    },
    {
      "cell_type": "code",
      "source": [
        "%%time\n",
        "# Balanced SVM Tuning\n",
        "\n",
        "# Define the parameter distribution\n",
        "param_grid_svm = {\n",
        "    # Penalty for misclassified points in the model\n",
        "    'classifier__C': range(1, 10, 1),\n",
        "    # Shape of the decision boundary\n",
        "    'classifier__kernel': ['rbf', 'poly'], # `rbf` creates a smooth boundary, `poly` creates a more complex one\n",
        "    # Control how much weight each training example has in the model\n",
        "    'classifier__gamma': ['scale', 0.1, 1, 10] # `scale` is automatically calculated\n",
        "}\n",
        "\n",
        "# Create the randomized search object\n",
        "rsearch_svm = RandomizedSearchCV(estimator=bal_svm_model, scoring='roc_auc_ovo', param_distributions=param_grid_svm, n_iter=10, cv=15, random_state=42, n_jobs=-1)\n",
        "\n",
        "# Fit the randomized search to the training data\n",
        "rsearch_svm.fit(X_train, y_train)\n",
        "\n",
        "# Print the best parameters and best score\n",
        "print('Best Hyperparameters:', rsearch_svm.best_params_)\n",
        "print('Best Score:', rsearch_svm.best_score_)\n"
      ],
      "metadata": {
        "colab": {
          "base_uri": "https://localhost:8080/"
        },
        "id": "RCR3DYrzAoKT",
        "outputId": "499fba1a-f9a8-4000-b364-1f5ec4c24bb4"
      },
      "execution_count": 41,
      "outputs": [
        {
          "output_type": "stream",
          "name": "stdout",
          "text": [
            "Best Hyperparameters: {'classifier__kernel': 'rbf', 'classifier__gamma': 0.1, 'classifier__C': 7}\n",
            "Best Score: 0.9982415188297542\n",
            "CPU times: user 1.64 s, sys: 120 ms, total: 1.76 s\n",
            "Wall time: 2min 4s\n"
          ]
        }
      ]
    },
    {
      "cell_type": "code",
      "source": [
        "# Build a SVM model with the tuned hyperparameters\n",
        "\n",
        "# Specify the column names for numeric and categorical columns\n",
        "numeric_cols = ['Level', 'Health', 'Energy', 'Sanity']\n",
        "categorical_cols = ['Type']\n",
        "\n",
        "# Create the transformers for preprocessing\n",
        "numeric_transformer = StandardScaler()\n",
        "categorical_transformer = OneHotEncoder()\n",
        "\n",
        "# Create the preprocessor using ColumnTransformer\n",
        "preprocessor = ColumnTransformer(\n",
        "    transformers=[\n",
        "        ('numeric', numeric_transformer, numeric_cols),\n",
        "        ('categorical', categorical_transformer, categorical_cols)\n",
        "    ],\n",
        "    remainder='drop'  # Exclude remaining columns from the pipeline\n",
        ")\n",
        "\n",
        "# Create the pipeline with preprocessing, oversampling, undersampling, and model\n",
        "tuned_svm_model = Pipeline([\n",
        "    ('preprocessor', preprocessor),\n",
        "    ('oversampling', SMOTE(sampling_strategy='auto', random_state=42)),\n",
        "    ('undersampling', RandomUnderSampler(random_state=42)),\n",
        "    ('classifier', SVC(random_state=42,\n",
        "                       probability=True,\n",
        "                       decision_function_shape='ovo',\n",
        "                       C=7,\n",
        "                       kernel='rbf',\n",
        "                       gamma=0.1))\n",
        "])\n",
        "\n",
        "# Fit the model\n",
        "tuned_svm_model.fit(X_train, y_train)\n",
        "\n",
        "# Evaluate the model using cross-validation\n",
        "cv = StratifiedKFold(n_splits=5, shuffle=True, random_state=42)\n",
        "tuned_svm_scores = cross_val_score(tuned_svm_model, X_train, y_train, cv=cv, scoring='roc_auc_ovo')\n",
        "print('Cross-Validation Scores:', tuned_svm_scores)\n",
        "print('ROC AUC OvO Tuned SVM:', tuned_svm_scores.mean())"
      ],
      "metadata": {
        "colab": {
          "base_uri": "https://localhost:8080/"
        },
        "id": "cvcGTt77AoNi",
        "outputId": "f381e6a0-3ff8-4462-f0d3-2af50a72cb97"
      },
      "execution_count": 42,
      "outputs": [
        {
          "output_type": "stream",
          "name": "stdout",
          "text": [
            "Cross-Validation Scores: [0.99768449 0.99833475 0.97280376 0.99924099 0.99829715]\n",
            "ROC AUC OvO Tuned SVM: 0.993272225898018\n"
          ]
        }
      ]
    },
    {
      "cell_type": "code",
      "source": [
        "# Balanced SVM Classification Report\n",
        "# Perform cross-validation and obtain predicted labels\n",
        "tuned_svm_y_pred = cross_val_predict(tuned_svm_model, X_train, y_train, cv=cv)\n",
        "print('Tuned SVM Classification Report: ')\n",
        "print(classification_report(y_train, tuned_svm_y_pred, zero_division=0))"
      ],
      "metadata": {
        "colab": {
          "base_uri": "https://localhost:8080/"
        },
        "id": "T7MzwbSJAo00",
        "outputId": "c8d42b2f-abce-4370-9d18-1e6460ce9f22"
      },
      "execution_count": 51,
      "outputs": [
        {
          "output_type": "stream",
          "name": "stdout",
          "text": [
            "Tuned SVM Classification Report: \n",
            "              precision    recall  f1-score   support\n",
            "\n",
            "      Rank 0       0.98      1.00      0.99       363\n",
            "      Rank 1       0.97      0.98      0.98       306\n",
            "      Rank 2       0.96      0.97      0.96       257\n",
            "      Rank 3       0.99      0.89      0.94       157\n",
            "      Rank 4       0.88      0.94      0.91        89\n",
            "      Rank 5       0.92      0.86      0.89        28\n",
            "\n",
            "    accuracy                           0.97      1200\n",
            "   macro avg       0.95      0.94      0.94      1200\n",
            "weighted avg       0.97      0.97      0.97      1200\n",
            "\n"
          ]
        }
      ]
    },
    {
      "cell_type": "code",
      "source": [
        "# Measure the improvement of the SVM model after tuning the hyperparameters\n",
        "print('Improvement of {:0.2f}%.'.format( 100 * (tuned_svm_scores.mean() - bal_svm_scores.mean()) /bal_svm_scores.mean()))"
      ],
      "metadata": {
        "colab": {
          "base_uri": "https://localhost:8080/"
        },
        "id": "z5TEi8-iIARp",
        "outputId": "cb1adf2e-7e88-4b29-bf66-589522ae7f68"
      },
      "execution_count": 44,
      "outputs": [
        {
          "output_type": "stream",
          "name": "stdout",
          "text": [
            "Improvement of 2.03%.\n"
          ]
        }
      ]
    },
    {
      "cell_type": "markdown",
      "source": [
        "In terms of overall performance, the Tuned SVM model stands out with the highest ROC AUC OvO score and accuracy. It demonstrates superior precision, recall, and F1-score values compared to the other two models."
      ],
      "metadata": {
        "id": "MX_RD3lZ5Js0"
      }
    },
    {
      "cell_type": "markdown",
      "source": [
        "## VI. Final Evaluation\n",
        "\n",
        "Use the best performer model based on the evaluation metrics to further assess its performance by using the test set to verify its effectiveness and reliability in real-world scenarios."
      ],
      "metadata": {
        "id": "uMgGlzzFaOt2"
      }
    },
    {
      "cell_type": "code",
      "source": [
        "# Evaluate the SVM model's overall performance on the test set\n",
        "test_score = tuned_svm_model.score(X_test, y_test)\n",
        "print('Test Accuracy:', test_score)\n"
      ],
      "metadata": {
        "colab": {
          "base_uri": "https://localhost:8080/"
        },
        "id": "rpnlcwIaJGND",
        "outputId": "9b45e0f8-96d6-43b9-96a6-07eb3a8393b8"
      },
      "execution_count": 45,
      "outputs": [
        {
          "output_type": "stream",
          "name": "stdout",
          "text": [
            "Test Accuracy: 0.96\n"
          ]
        }
      ]
    },
    {
      "cell_type": "code",
      "source": [
        "# Evaluate the SVM model's roc_auc_ovo score on the test set\n",
        "roc_auc_ovo_score_tuned_svm = roc_auc_score(y_test, tuned_svm_model.predict_proba(X_test), multi_class='ovo')\n",
        "print('ROC AUC OVO Test score', roc_auc_ovo_score_tuned_svm)"
      ],
      "metadata": {
        "colab": {
          "base_uri": "https://localhost:8080/"
        },
        "id": "kurFbhvG9RnJ",
        "outputId": "7b7e48be-74d5-4679-b453-cc4281ab1c9f"
      },
      "execution_count": 48,
      "outputs": [
        {
          "output_type": "stream",
          "name": "stdout",
          "text": [
            "ROC AUC OVO Test score 0.9845260295260296\n"
          ]
        }
      ]
    },
    {
      "cell_type": "code",
      "source": [
        "# Test Classification Report\n",
        "y_test_pred = tuned_svm_model.predict(X_test)\n",
        "\n",
        "print('Test Classification Report SVM: ')\n",
        "print(classification_report(y_test, y_test_pred));"
      ],
      "metadata": {
        "colab": {
          "base_uri": "https://localhost:8080/"
        },
        "id": "7jHz37hwbCfW",
        "outputId": "ada822a1-3529-4bb7-a8c6-cc10a55b8aa8"
      },
      "execution_count": 49,
      "outputs": [
        {
          "output_type": "stream",
          "name": "stdout",
          "text": [
            "Test Classification Report SVM: \n",
            "              precision    recall  f1-score   support\n",
            "\n",
            "      Rank 0       0.99      1.00      0.99        93\n",
            "      Rank 1       0.96      0.99      0.97        72\n",
            "      Rank 2       0.95      0.97      0.96        60\n",
            "      Rank 3       0.92      0.87      0.89        39\n",
            "      Rank 4       0.94      0.91      0.92        33\n",
            "      Rank 5       1.00      0.67      0.80         3\n",
            "\n",
            "    accuracy                           0.96       300\n",
            "   macro avg       0.96      0.90      0.92       300\n",
            "weighted avg       0.96      0.96      0.96       300\n",
            "\n"
          ]
        }
      ]
    },
    {
      "cell_type": "markdown",
      "source": [
        "## VII. Feature Importance\n",
        "\n",
        "Plot feature importances for the selected model to gain insights into the significance of different attributes in predicting monster rarity.\n",
        "\n"
      ],
      "metadata": {
        "id": "OiKoso48OznS"
      }
    },
    {
      "cell_type": "code",
      "source": [
        "# Calculate permutation importances\n",
        "result = permutation_importance(tuned_svm_model, X_test, y_test, n_repeats=10, random_state=42)\n",
        "\n",
        "# Get the feature importances\n",
        "importances = result.importances_mean\n",
        "feature_names = X_test.columns\n",
        "\n",
        "# Create a DataFrame with feature names and importances\n",
        "feature_importances = pd.DataFrame({'Feature': feature_names, 'Importance': importances})\n",
        "feature_importances.sort_values('Importance', ascending=True, inplace=True)\n",
        "\n",
        "# Plot the feature importances\n",
        "plt.figure(figsize=(10, 6))\n",
        "plt.barh(feature_importances['Feature'][:10], feature_importances['Importance'][:10])\n",
        "plt.xlabel('Importance')\n",
        "plt.ylabel('Feature')\n",
        "plt.title('Permutation Feature Importances')\n",
        "plt.show()\n"
      ],
      "metadata": {
        "colab": {
          "base_uri": "https://localhost:8080/",
          "height": 564
        },
        "id": "OA5FCl4A8Wy3",
        "outputId": "ddcdf264-c769-493c-a908-c53123c94fda"
      },
      "execution_count": 50,
      "outputs": [
        {
          "output_type": "display_data",
          "data": {
            "text/plain": [
              "<Figure size 1000x600 with 1 Axes>"
            ],
            "image/png": "[encoded data removed]"
          },
          "metadata": {}
        }
      ]
    },
    {
      "cell_type": "markdown",
      "source": [
        "## Methodology\n",
        "\n",
        "The methodology employed in this project followed a systematic approach to solve the problem of classifying monster rarity based on attributes such as level, health, energy and sanity. The overall approach consisted of several key steps, including data collection, data preprocessing, exploratory data analysis (EDA), model selection, hyperparameter tuning and evaluation.\n",
        "\n",
        "- The dataset for this project was obtained from a MongoDB database using the custom `wrangle()` function to establish a connection, retrieve the desired collection, and convert it into a pandas DataFrame.\n",
        "\n",
        "- The preprocessing steps within the `wrangle()` function included data cleaning steps such as dropping the `_id` column, converting the `Timestamp` column into a datetime object, and excluding high cardinality categorical columns (those with more than a specified number of unique values, in this case, 100).\n",
        "\n",
        "- During the EDA phase, summary statistics were generated to gain an understanding of the distribution and range of numerical attributes. It was observed that no missing values were present in the dataset, ensuring the completeness of the data. However, further analysis revealed that the `Timestamp` column had a constant value for all rows and did not provide any meaningful information for analysis or visualization. In spite of that, the `Timestamp` column was kept in the DataFrame to display information about the timestamp when the app is deployed. This decision ensures that the deployed model can provide insights related to the timestamp when users interact with the `/model` tab on the web application.\n",
        "\n",
        "- Aditionally, the distribution of the target feature was examined revealing an imbalance in the `Rarity` classes. This means that some rarity classes were overrepresented compared to others.\n",
        "\n",
        "- The majority class (`Rank 0`), was selected as the baseline prediction for all instances. The baseline accuracy was 30%.\n",
        "\n",
        "- Following, three different algorithms (Random Forest, XGBoost, and Support Vector Machines) were chosen for modeling based on their suitability for classification tasks and their ability to handle both numerical and categorical features present in the dataset.\n",
        "\n",
        "## Challenges and Techniques\n",
        "\n",
        "- The classes for the target variable were imbalanced. To address this challenge, the models were initially trained and evaluated using the imbalanced dataset to assess their performance in real-world scenarios. All these models struggled to classify the minority classes, especially `Rank 4` and `Rank 5`.\n",
        "\n",
        "- Next, we employed techniques such as SMOTE (Synthetic Minority Over-sampling Technique) oversampling and random undersampling to balance the classes and improve the models' ability to predict the minority classes. Higher accuracy and better performance when identifying rare classes were observed, compared to the performance of the imbalanced data.\n",
        "\n",
        "- Cross-validation was performed using the `roc_auc_ovo` scoring metric to ensure unbiased evaluation and account for the imbalanced nature of the target feature. This metric is suitable for multi-class classification tasks and provides insights into the models' ability to differentiate between various rarity classes.\n",
        "\n",
        "## Hyperparameter Tuning and Model Evaluation Metrics\n",
        "\n",
        "- Fine-tuning was carried out for each model to maximize the `roc_auc_ovo` score using a randomized search technique to find the optimal set of hyperparameters for each model.\n",
        "\n",
        "- Afterwards, classification reports were analyzed to get a complete picture of the models' ability to predict minority classes. The evaluation was performed using metrics such as accuracy, precision, recall, f1-score, macro-average F1-score, and weighted-average F1-score. The models were fine-tuned to achieve a balance between overall accuracy and satisfactory performance for the minority classes.\n",
        "\n",
        "- The Support Vector Machines (SVM) model proved to be the best performer based on the evaluation metrics. To ensure its real-world performance, it underwent further evaluation using the test set.\n",
        "\n",
        "- The feature importance of the selected SVM model was plotted to determine the significance of different attributes in predicting monster rarity. This analysis revealed that the level attribute had the highest importance in predicting monster rarity, followed by energy, health, and sanity attributes."
      ],
      "metadata": {
        "id": "vKOqOEDrSZVP"
      }
    },
    {
      "cell_type": "markdown",
      "source": [
        "## Results\n",
        "\n",
        "Based on the project results, the predictive model that was developed showed impressive performance and effectiveness. To provide a clear understanding, the key findings and metrics were analyzed for each tuned model, and they are as follows:\n",
        "\n",
        "\n",
        "|     Metrics       |  Tuned RF    |  Tuned XGB   |  Tuned SVM   |\n",
        "|-------------------|--------------|--------------|--------------|\n",
        "| ROC AUC OvO       |   0.974      |   0.969      |   0.993      |\n",
        "| Accuracy          |   0.95       |   0.95       |   0.97       |\n",
        "| Macro Avg F1      |   0.87       |   0.87       |   0.94       |\n",
        "| Weighted Avg F1   |   0.95       |   0.95       |   0.97       |\n",
        "| Precision (Rank 0)|   1.00       |   0.99       |   0.98       |\n",
        "| Precision (Rank 1)|   0.98       |   0.97       |   0.97       |\n",
        "| Precision (Rank 2)|   0.97       |   0.95       |   0.96       |\n",
        "| Precision (Rank 3)|   0.94       |   0.92       |   0.99       |\n",
        "| Precision (Rank 4)|   0.78       |   0.79       |   0.88       |\n",
        "| Precision (Rank 5)|   0.56       |   0.74       |   0.92       |\n",
        "| Recall (Rank 0)   |   1.00       |   0.99       |    1.00      |\n",
        "| Recall (Rank 1)   |   0.99       |   0.98       |   0.98       |\n",
        "| Recall (Rank 2)   |   0.97       |   0.96       |   0.97       |\n",
        "| Recall (Rank 3)   |   0.92       |   0.90       |   0.89       |\n",
        "| Recall (Rank 4)   |   0.81       |   0.83       |   0.94       |\n",
        "| Recall (Rank 5)   |   0.50       |   0.50       |   0.86       |\n",
        "| F1-score (Rank 0) |   1.00       |   0.99       |   0.99       |\n",
        "| F1-score (Rank 1) |   0.99       |   0.97       |   0.98       |\n",
        "| F1-score (Rank 2) |   0.97       |   0.95       |   0.96       |\n",
        "| F1-score (Rank 3) |   0.93       |   0.91       |   0.94       |\n",
        "| F1-score (Rank 4) |   0.80       |   0.81       |   0.91       |\n",
        "| F1-score (Rank 5) |   0.53       |   0.60       |   0.89       |\n"
      ],
      "metadata": {
        "id": "GmL9b8EqLA9N"
      }
    },
    {
      "cell_type": "markdown",
      "source": [
        "### Metrics Analysis - Best Performing Model:\n",
        "\n",
        "\n",
        "The SVM model demonstrated the highest accuracy of 97% among the tuned models. It also achieved the highest precision, recall, and F1-score across most classes, indicating a well-balanced performance in terms of both precision and recall.\n",
        "\n",
        "The SVM model had the highest ROC AUC score of 0.993, indicating excellent performance in distinguishing between the ranks of the monsters across all ranks.\n",
        "\n"
      ],
      "metadata": {
        "id": "GXkW16SLzkgK"
      }
    },
    {
      "cell_type": "markdown",
      "source": [
        "## Model Deployment\n",
        "\n",
        "The trained model will be deployed to create a user-friendly application where users can input the level, health, energy, and sanity attributes of a monster and receive a predicted rarity class for the monster along with a confidence percentage. The application will also handle missing attribute values by generating random statistics to ensure predictions can still be made."
      ],
      "metadata": {
        "id": "6n9ltK4kwwu4"
      }
    },
    {
      "cell_type": "markdown",
      "source": [
        "## Conclusion\n",
        "\n",
        "To sum up, the project has effectively achieved its objective of creating a predictive model that classifies monster rarity based on their attributes. Various machine learning algorithms and techniques were utilized to overcome the problem of imbalanced data. After extensive evaluation and hyperparameter tuning, the Random Forest model showed the best overall performance, providing precise predictions and efficiently handling imbalanced classes.\n",
        "\n",
        "Integrating the model into a practical application will provide users with a user-friendly, automated tool that can assist in classifying monster rarity and aiding in decision-making.\n"
      ],
      "metadata": {
        "id": "W4IM7eZYVtv3"
      }
    }
  ]
}